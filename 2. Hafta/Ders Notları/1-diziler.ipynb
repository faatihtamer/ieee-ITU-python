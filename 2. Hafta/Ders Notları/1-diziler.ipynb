{
 "cells": [
  {
   "attachments": {},
   "cell_type": "markdown",
   "metadata": {},
   "source": [
    "# <span style=\"color:#0152a1\"> İTÜ IEEE Python Eğitimi</span> \n",
    "## 2. Hafta\n"
   ]
  },
  {
   "attachments": {},
   "cell_type": "markdown",
   "metadata": {},
   "source": [
    "##### Diziler (Array)\n",
    "\n",
    "Diziler, Python'da bir değişken de birden fazla veri saklamamızı sağlayan değişken türleridir. Farklı türleri mevcuttur.\n",
    "\n",
    "\n",
    "__List__\n",
    "\n",
    "Pythonda en çok kullanılan dizi tipidir. Elemanlar sıralı saklanır, değiştirilebilir ve aynı eleman birden fazla kez bulunabilir.\n",
    "<br> Bir liste şu şekilde tanımlanır:"
   ]
  },
  {
   "cell_type": "code",
   "execution_count": 1,
   "metadata": {},
   "outputs": [
    {
     "name": "stdout",
     "output_type": "stream",
     "text": [
      "['a', 'e', 'ı', 'i', 'o', 'ö', 'u', 'ü']\n"
     ]
    }
   ],
   "source": [
    "sesli_harfler = [\"a\",\"e\",\"ı\",\"i\",\"o\",\"ö\",\"u\",\"ü\"] # Listeler tek bir tür eleman barındırabileceği gibi;\n",
    "liste_2 = [\"i\", \"t\", \"ü\", 1, 7, 7, 3.14, False] # Farklı tip elemanlardan da oluşabilir\n",
    "\n",
    "print(sesli_harfler)\n",
    "print(type(sesli_harfler))\n",
    "print(len(sesli_harfler)) # len() fonksiyonu, bir dizinin eleman sayısını verir.\n",
    "\n",
    "print(liste_2)\n",
    "print(type(liste_2))\n",
    "print(len(liste_2)) "
   ]
  },
  {
   "attachments": {},
   "cell_type": "markdown",
   "metadata": {},
   "source": [
    "**Listedeki Elemanlara Erişmek**\n",
    "\n",
    "Bahsettiğimiz gibi, listedeki elemanlar belirli bir sırayla tutulur. Bu sıraya `index` adı verilir. 0'dan başlar. (Bu yüzden son elemanın index'i [mantıken liste uzunluğu] - 1 olur) Elemanların indexlerini kullanarak onlara erişebiliriz."
   ]
  },
  {
   "cell_type": "code",
   "execution_count": 2,
   "metadata": {},
   "outputs": [
    {
     "name": "stdout",
     "output_type": "stream",
     "text": [
      "1\n",
      "6\n",
      "0\n",
      "1\n"
     ]
    }
   ],
   "source": [
    "rakamlar = [1, 2, 3, 4, 5, 6, 7 , 8, 9, 0]\n",
    "\n",
    "print(rakamlar[0])\n",
    "print(rakamlar[5])\n",
    "\n",
    "print(rakamlar[-1]) # negatif indexlerler ile sondan başa doğru da gidebiliriz.\n",
    "print(rakamlar[-10])\n",
    "\n"
   ]
  },
  {
   "attachments": {},
   "cell_type": "markdown",
   "metadata": {},
   "source": [
    "**Liste Aralıkları**\n",
    "\n",
    "Aynı yöntemi kullanarak ana listemizden alt listeler oluşturabiliriz.\n",
    "\n"
   ]
  },
  {
   "cell_type": "code",
   "execution_count": 6,
   "metadata": {},
   "outputs": [
    {
     "name": "stdout",
     "output_type": "stream",
     "text": [
      "Listedeki ilk 3 eleman: [1, 2, 3]\n",
      "Listedeki son üç eleman: [8, 9, 0]\n",
      "Listedeki çift elemanlar: [2, 4, 6, 8, 0]\n"
     ]
    }
   ],
   "source": [
    "rakamlar = [1, 2, 3, 4, 5, 6, 7 , 8, 9, 0]\n",
    "\n",
    "ilk_uc = rakamlar[0:3]\n",
    "son_uc = rakamlar[-3:] # Bir ifadeyi girmezsek, sonuna kadar devam ediyor.\n",
    "ciftler = rakamlar[1::2] # Bu şekilde kullanarak 3. girdiğimiz değer, kaçar kaçar atlayacağımızı belirtiyor.\n",
    "\n",
    "print(f\"Listedeki ilk 3 eleman: {ilk_uc}\\nListedeki son üç eleman: {son_uc}\\nListedeki çift elemanlar: {ciftler}\")\n",
    "\n"
   ]
  },
  {
   "attachments": {},
   "cell_type": "markdown",
   "metadata": {},
   "source": [
    "__Yararlı fonksiyon ve kavramlar__\n",
    "\n",
    "- `in` : listede bir elemanın olup olmadığını verir.\n",
    "- `.count()` parametre olarak girilen elemanın listede kaç tane olduğunu verir.\n",
    "- `.append()` parametre olarak girilen ifadeyi liste sonuna ekler.\n",
    "- `.extend()` parametre olarak girilen listeyi listenin sonuna ekler\n",
    "- `.pop()` parametre olarak girilen index'teki elemanı listeden siler.\n",
    "- `.remove()` parametre olarak girilen değerdeki elemanları listeden siler.\n",
    "\n",
    "En çok kullanılan metodları listeledik, diğerlerine [buradan](https://www.w3schools.com/python/python_lists_methods.asp) ulaşabilirsin\n",
    "<br>Bunların kullanımlarını incelersek:"
   ]
  },
  {
   "cell_type": "code",
   "execution_count": 10,
   "metadata": {},
   "outputs": [
    {
     "name": "stdout",
     "output_type": "stream",
     "text": [
      "True\n",
      "0\n",
      "['İTÜ', 'since', 1773, True, 'IEEE']\n",
      "2\n",
      "['İTÜ', 'since', 'IEEE']\n"
     ]
    }
   ],
   "source": [
    "data = [\"İTÜ\", \"since\", 1773, True]\n",
    "\n",
    "print(\"İTÜ\" in data)\n",
    "print(data.count(\"1773\")) # 0, çünkü string değil integer olarak var 1773\n",
    "\n",
    "data.append(\"IEEE\")\n",
    "print(data)\n",
    "data.pop(3)\n",
    "data.remove(1773)\n",
    "print(data.index(\"IEEE\"))\n",
    "print(data)"
   ]
  },
  {
   "attachments": {},
   "cell_type": "markdown",
   "metadata": {},
   "source": [
    "Belirli bir konumdaki elemanın değiştirilmesi için yine `[]` işareti kullanılır."
   ]
  },
  {
   "cell_type": "code",
   "execution_count": 13,
   "metadata": {},
   "outputs": [
    {
     "name": "stdout",
     "output_type": "stream",
     "text": [
      "['A', 'X', 'C', 'D']\n"
     ]
    }
   ],
   "source": [
    "liste = [\"A\", \"B\", \"C\", \"D\"]\n",
    "\n",
    "liste[1] = \"X\"\n",
    "print(liste)"
   ]
  },
  {
   "attachments": {},
   "cell_type": "markdown",
   "metadata": {},
   "source": [
    "**Tuple**\n",
    "\n",
    "Bir diğer dizi türüdür. Elemanlar sıralı depolanır, ancak tuple'lar değiştirilemez. Bu sebeple değişmeyen verilerin saklanmasında oldukça kullanışlıdır. listelerle ortak bir çok metoda ve kullanıma sahiptir.\n",
    "<br>Tanımlanması ve kullanımı şu şekildedir:"
   ]
  },
  {
   "cell_type": "code",
   "execution_count": 16,
   "metadata": {},
   "outputs": [
    {
     "name": "stdout",
     "output_type": "stream",
     "text": [
      "Listedeki ilk 3 eleman: (1, 2, 3)\n",
      "Listedeki son üç eleman: (8, 9, 0)\n",
      "Listedeki çift elemanlar: (2, 4, 6, 8, 0)\n"
     ]
    }
   ],
   "source": [
    "rakamlar = (1, 2, 3, 4, 5, 6, 7 , 8, 9, 0)\n",
    "\n",
    "ilk_uc = rakamlar[0:3]\n",
    "son_uc = rakamlar[-3:] # Bir ifadeyi girmezsek, sonuna kadar devam ediyor.\n",
    "ciftler = rakamlar[1::2] # Bu şekilde kullanarak 3. girdiğimiz değer, kaçar kaçar atlayacağımızı belirtiyor.\n",
    "\n",
    "print(f\"Listedeki ilk 3 eleman: {ilk_uc}\\nListedeki son üç eleman: {son_uc}\\nListedeki çift elemanlar: {ciftler}\")"
   ]
  },
  {
   "attachments": {},
   "cell_type": "markdown",
   "metadata": {},
   "source": [
    "Tuple'lar, fonksiyonlar ve kullanımları açısından listelere çok benzerler. Ancak bir düzenleme veya eklemeye yapma konusunda farklılardır. Listelerdeki gibi bir değişiklik yapmaya çalıştığımızda, hata alacağız:"
   ]
  },
  {
   "cell_type": "code",
   "execution_count": 17,
   "metadata": {},
   "outputs": [
    {
     "ename": "TypeError",
     "evalue": "'tuple' object does not support item assignment",
     "output_type": "error",
     "traceback": [
      "\u001b[1;31m---------------------------------------------------------------------------\u001b[0m",
      "\u001b[1;31mTypeError\u001b[0m                                 Traceback (most recent call last)",
      "\u001b[1;32m~\\AppData\\Local\\Temp/ipykernel_32452/3085321127.py\u001b[0m in \u001b[0;36m<module>\u001b[1;34m\u001b[0m\n\u001b[1;32m----> 1\u001b[1;33m \u001b[0mrakamlar\u001b[0m\u001b[1;33m[\u001b[0m\u001b[1;36m2\u001b[0m\u001b[1;33m]\u001b[0m \u001b[1;33m=\u001b[0m \u001b[1;36m100\u001b[0m\u001b[1;33m\u001b[0m\u001b[1;33m\u001b[0m\u001b[0m\n\u001b[0m",
      "\u001b[1;31mTypeError\u001b[0m: 'tuple' object does not support item assignment"
     ]
    }
   ],
   "source": [
    "rakamlar[2] = 100"
   ]
  },
  {
   "attachments": {},
   "cell_type": "markdown",
   "metadata": {},
   "source": [
    "Değişiklikler yapacağımız bir dizinin, tuple yerine array olmasını tercih ederiz. Ancak zorunlu kaldığımız durumlarda, `list()` fonksiyonunu kullanarak, tuple dizimizi listeye çevirip, gerekli değişikliği yaparak, sonrasında tekrar `tuple()` fonksiyonuyla tekrar tuple tiğine çevrilir."
   ]
  },
  {
   "attachments": {},
   "cell_type": "markdown",
   "metadata": {},
   "source": [
    "**Set**\n",
    "\n",
    "Kümeler, bir diğer dizi tipidir. Tuple gibi elemanlar değiştirilemez, ancak elemanlar eklenip çıkarılabilir. Aynı elemandan sadece bir adet tutarlar ve verileri sıralı olarak tutmazlar, yani elemanların `index`leri yoktur."
   ]
  },
  {
   "cell_type": "code",
   "execution_count": 4,
   "metadata": {},
   "outputs": [
    {
     "name": "stdout",
     "output_type": "stream",
     "text": [
      "{True, 'defter', 5, 'kalem'}\n"
     ]
    }
   ],
   "source": [
    "küme = {\"defter\", \"kalem\", True, \"kalem\", 5}\n",
    "print(küme)"
   ]
  },
  {
   "attachments": {},
   "cell_type": "markdown",
   "metadata": {},
   "source": [
    "Tuple'lardan farklı olarak, kümelere elemanlar eklenip çıkartılabilir:"
   ]
  },
  {
   "cell_type": "code",
   "execution_count": null,
   "metadata": {},
   "outputs": [],
   "source": [
    "rakamlar = {1, 2, 3}\n",
    "harfler = [\"A\", \"B\", \"A\"]\n",
    "\n",
    "rakamlar.add(4)  # bir eleman ekleme\n",
    "\n",
    "print(rakamlar)\n",
    "\n",
    "rakamlar.update(harfler)# Başka bir diziyi kümeye eklemek\n",
    "print(rakamlar) # Fark ettiyseniz A 2 kere tekrarlanmadı, kümeler eleman tekrarları içermez\n",
    "\n",
    "rakamlar.remove(\"B\")"
   ]
  },
  {
   "attachments": {},
   "cell_type": "markdown",
   "metadata": {},
   "source": [
    "**Dictionary**\n",
    "\n",
    "Key (anahtar) - value (değer) ikilileri olarak elemanları saklayan dizilerdir. Üzerinde rahatlıkla değişiklikler yapılabilir ve elemanları düzenli tutmakta oldukça kullanışlıdır"
   ]
  },
  {
   "cell_type": "code",
   "execution_count": 2,
   "metadata": {},
   "outputs": [
    {
     "name": "stdout",
     "output_type": "stream",
     "text": [
      "{1: 'Ford', 'model': 'Mustang', 'year': 1967}\n",
      "<class 'dict'>\n"
     ]
    }
   ],
   "source": [
    "araba = {\n",
    "  \"marka\": \"Ford\",\n",
    "  \"model\": \"Mustang\",\n",
    "  \"yıl\": 1967\n",
    "}\n",
    "print(araba)\n",
    "print(type(araba))"
   ]
  },
  {
   "attachments": {},
   "cell_type": "markdown",
   "metadata": {},
   "source": [
    "Value olarak farklı tür veriler girilebilir ancak key olarak genellikle string ifadeler kullanılır. Dictionary'lerin elemanlarına aşağıdaki şekilde erişilebilir veya değişiklikler yapılabilir:"
   ]
  },
  {
   "cell_type": "code",
   "execution_count": 3,
   "metadata": {},
   "outputs": [
    {
     "name": "stdout",
     "output_type": "stream",
     "text": [
      "{1: 'Ford', 'year': 1967, 'yıl': 2022, 'renk': 'siyah'}\n"
     ]
    }
   ],
   "source": [
    "araba[\"yıl\"] = 2022 # yıl değerini değiştirdik\n",
    "araba[\"renk\"] = \"siyah\" # renk özelliğini eklemek bu kadar kolaydır\n",
    "del araba[\"model\"] # Model elemanını sildik.\n",
    "\n",
    "print(araba)\n"
   ]
  }
 ],
 "metadata": {
  "kernelspec": {
   "display_name": "Python 3",
   "language": "python",
   "name": "python3"
  },
  "language_info": {
   "codemirror_mode": {
    "name": "ipython",
    "version": 3
   },
   "file_extension": ".py",
   "mimetype": "text/x-python",
   "name": "python",
   "nbconvert_exporter": "python",
   "pygments_lexer": "ipython3",
   "version": "3.12.0"
  },
  "orig_nbformat": 4
 },
 "nbformat": 4,
 "nbformat_minor": 2
}
