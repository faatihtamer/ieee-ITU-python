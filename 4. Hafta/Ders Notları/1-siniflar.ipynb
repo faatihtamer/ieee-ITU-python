{
 "cells": [
  {
   "cell_type": "markdown",
   "metadata": {},
   "source": [
    "# <span style=\"color:#0152a1\"> İTÜ IEEE Python Eğitimi</span> \n",
    "## 4. Hafta\n"
   ]
  },
  {
   "cell_type": "markdown",
   "metadata": {},
   "source": [
    "##### Sınıflar/Objeler\n",
    "\n",
    "Python, bir nesne tabanlı programlama dilidir (Object Oriented Programming - OOP). Bu demek oluyor ki, aslında pythonda kullandığımız nerdeyse tüm yapılar birer nesnedir: String, int, list, dict, fonksiyon vb bir çok şey.\n",
    "\n",
    "Sınıflar (class), objeler yaratırken kullandığımız birer taslak gibidir.\n",
    "\n",
    "Geçtiğimiz haftalarda `type()` fonksiyonu kullandığımızda aldığımız çıktıya tekrar göz atalım:"
   ]
  },
  {
   "cell_type": "code",
   "execution_count": 1,
   "metadata": {},
   "outputs": [
    {
     "name": "stdout",
     "output_type": "stream",
     "text": [
      "<class 'int'>\n",
      "<class 'str'>\n",
      "<class 'list'>\n",
      "<class 'function'>\n"
     ]
    }
   ],
   "source": [
    "a = 5\n",
    "b = \"IEEE\"\n",
    "c = []\n",
    "def d():\n",
    "    pass\n",
    "\n",
    "print(type(a))\n",
    "print(type(b))\n",
    "print(type(c))\n",
    "print(type(d))"
   ]
  },
  {
   "cell_type": "markdown",
   "metadata": {},
   "source": [
    "Göreceğiniz üzere, a değişkeni aslında integer sınıfına ait bir örnek. Burada class (sınıf) ve object (nesne) kavramları önemlidir. Class, bir taslaktır, obje ise o class kullanılarak üretilmiş her instance'dan(örnekten) biridir. Integer, function, string, list birer class, yukarıda yarattığımız a, b, c, d birer nesnedir.\n",
    "\n",
    "Kafanız karıştıysa, bu hafta tamamen sınıf ve nesnelerle ilgileniyor olacağız. Bu esnada iyice anlayacaksınız.\n",
    "\n",
    "Şimdi, bir sınıfın nasıl tanımlandığına bakalım. Bunun için `class` keyword'ü kullanılır:"
   ]
  },
  {
   "cell_type": "code",
   "execution_count": 3,
   "metadata": {},
   "outputs": [],
   "source": [
    "class MyClass:\n",
    "    x = 5"
   ]
  },
  {
   "cell_type": "markdown",
   "metadata": {},
   "source": [
    "Şu an `MyClass` adında bir sınıf oluşturduk. Bu sınıftan oluşturduğumuz objelerin taslağı bu olacak.\n",
    "\n",
    "Bu sınıftan obje oluşturmak içinse:\n"
   ]
  },
  {
   "cell_type": "code",
   "execution_count": 5,
   "metadata": {},
   "outputs": [
    {
     "name": "stdout",
     "output_type": "stream",
     "text": [
      "5\n",
      "<class '__main__.MyClass'>\n"
     ]
    }
   ],
   "source": [
    "nesne1 = MyClass()\n",
    "nesne2 = MyClass()\n",
    "print(nesne1.x)\n",
    "print(type(nesne2))"
   ]
  },
  {
   "cell_type": "markdown",
   "metadata": {},
   "source": [
    "Taslak derken ne demek istenildiği daha net anlaşılmıştır. `nesne1` ve `nesne2`, artık `MyClass` classına ait objeler. `x` ise bu objelere ait birer özellik (attribute). Bir objeye ait özelliklere ve methodlara erişmek için `obje.özellik` formatını kullanırız. \n",
    "\n",
    "Gerçek hayatta, birbirine tıpatıp benzeyen objelere değil de, aynı taslaktan çıkan farklı objelere ihtiyaç duyarız. Bunu nasıl yapabileceğimize bir örnek üzerinden bakalım"
   ]
  },
  {
   "cell_type": "code",
   "execution_count": 7,
   "metadata": {},
   "outputs": [
    {
     "name": "stdout",
     "output_type": "stream",
     "text": [
      "2022 model BMW M2\n",
      "2022\n"
     ]
    }
   ],
   "source": [
    "class Araba:\n",
    "    def __init__(self, marka, model, yil):\n",
    "        self.marka = marka\n",
    "        self.model = model\n",
    "        self.yil = yil\n",
    "    \n",
    "    def yazdir(self):\n",
    "        return f\"{self.yil} model {self.marka} {self.model}\"\n",
    "\n",
    "benim_arac = Araba(\"BMW\", \"M2\", \"2022\")\n",
    "print(benim_arac.yazdir())\n",
    "print(benim_arac.yil)"
   ]
  },
  {
   "cell_type": "markdown",
   "metadata": {},
   "source": [
    "Yukarıdaki örnekte yeni bir çok şey var. Hepsine tek tek bakalım:\n",
    "\n",
    "Geçen hafta gördüğümüz fonksiyonlar, sınıfların içinde de olabilir. Bir objeye ait olan fonksiyonlara method diyoruz. Bir fonksiyonun içerisinde istediğimiz gibi methodlar tanımlayabiliriz. Ancak python tarafından bazı özel methodlar bulunur, isimlerinin baş ve sonlarındakş `__` işaretlerinden ayırt edebiliriz. Bu methodlara \"Dunder Methods\" veya \"Magic Methods adı verilir. Bazı sık karşılaştığımız  dunder methodlar: (Daha fazla Dunder Method'a [buradan](https://nitesh-yadav.medium.com/dunder-methods-in-python-really-crazy-functions-3455ecb6472d#:~:text=Dunder%20methods%2C%20also%20known%20as,or%20functionalities%20in%20Python%20classes.) ulaşabilirsiniz)\n",
    "- `__init__(self, ..)`: Bu method objenin inşasını sağlar. Obje ilk yaratılırken çağrılır. Genel olarak objeye attribute eklenmesi ve gerekli setup'ların yapılmasında kullanılır. Farklı parametreler alabilir. Yukarıda `benim_arac = Araba(\"BMW\", \"M2\", \"2022\")` yazdığımızda aslında init fonksiyonunu çağırmış oluyoruz, bu parametreleri de o alıyor\n",
    "- `__str__(self)` : Bu method objeye ait string bir değer döndürmeyi sağlar. Genel olarak `str()` fonksiyonu içine obje konduğunda veya obje printlenmeye çalıştığında çağrılır.\n",
    "- `__len__(self)` : Bu method objenin uzunluğunu döndürür. Genel olarak `len()` fonksiyonu içine obje konulduğunda çağrılır.\n",
    "\n",
    "Yani, örneğin aslında geçmişte kullandığımız her değişken tipi birer fonksiyon olduğuna göre, bu temel methodlar onlar için de tanımlıdır.\n",
    "\n",
    "Methodlar da aynı fonksiyonlar gibi parametreler alırlar, ancak ilk parametreleri özel bir değişken olan `self` parametresidir. `self`, o sınıfa ait o an erişilen objeyi temsil eder. Bu parametre, python tarafından otomatik olarak o anki nesne olacak şekilde verilir. Sınıfın içerisinde methodu tanımlarken ilk parametre olarak yazarız, ve daha sonrasında bu argümanı methodun içinde kullanırız. Ancak sınıfın dışında bu fonksiyonu çağırırken tekrar self için bir değer yollamayız, yukarıda söylediğimiz üzere otomatik olarak verilir.\n",
    "\n",
    "Birkaç örnek daha verelim:"
   ]
  },
  {
   "cell_type": "code",
   "execution_count": 10,
   "metadata": {},
   "outputs": [
    {
     "name": "stdout",
     "output_type": "stream",
     "text": [
      "----\n",
      "Umur Uğurer\n",
      "1000\n",
      "----\n",
      "Furkan Ünüvar\n",
      "1200\n",
      "1100\n",
      "Umur Ata Uğurer\n"
     ]
    }
   ],
   "source": [
    "# Class tanımlanması\n",
    "class calisan:\n",
    "    sirket = \"İTÜ\" # Bu bir class attribute: Bu sınıfa ait her obje için aynı\n",
    "    def __init__(self, ad, soyad, maas): # Parametre olarak alınan verilerin objeye atanması\n",
    "        self.ad = ad # Bunlar objeye ait özellikler. Her bir objenin kendine ait , objeden objeye değişebilir\n",
    "        self.soyad = soyad\n",
    "        self.maas = maas\n",
    "    def __str__(self):\n",
    "        return f\"{self.ad} {self.soyad}\"\n",
    "    def zam(self, miktar):\n",
    "        self.maas += miktar\n",
    "\n",
    "# İki farklı obje tanımlanması\n",
    "calisan1 = calisan(\"Umur\", \"Uğurer\", 1000)\n",
    "calisan2 = calisan(\"Furkan\", \"Ünüvar\", 1200) \n",
    "\n",
    "# Attribute'ların printlenmesi\n",
    "print(\"----\")\n",
    "print(calisan1)\n",
    "print(calisan1.maas)\n",
    "print(calisan1.sirket)\n",
    "print(\"----\")\n",
    "print(calisan2)\n",
    "print(calisan2.maas)\n",
    "print(calisan2.sirket)\n",
    "# Maaşlara zam yapılması\n",
    "\n",
    "calisan2.zam(100)\n",
    "print(calisan2.maas)\n",
    "\n",
    "# Direkt olarak bir objenin attribute'unun değiştirilmesi:\n",
    "calisan1.ad = \"Umur Ata\"\n",
    "print(calisan1)\n",
    "\n",
    "calisan1.saat = 40 # Bu şekilde var olmayan yeni attribute'lar da eklenebilir"
   ]
  }
 ],
 "metadata": {
  "kernelspec": {
   "display_name": "Python 3",
   "language": "python",
   "name": "python3"
  },
  "language_info": {
   "codemirror_mode": {
    "name": "ipython",
    "version": 3
   },
   "file_extension": ".py",
   "mimetype": "text/x-python",
   "name": "python",
   "nbconvert_exporter": "python",
   "pygments_lexer": "ipython3",
   "version": "3.9.13"
  }
 },
 "nbformat": 4,
 "nbformat_minor": 2
}
