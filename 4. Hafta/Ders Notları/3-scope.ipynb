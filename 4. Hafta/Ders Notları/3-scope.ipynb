{
 "cells": [
  {
   "attachments": {},
   "cell_type": "markdown",
   "metadata": {},
   "source": [
    "# <span style=\"color:#0152a1\"> İTÜ IEEE Python Eğitimi</span> \n",
    "## 4. Hafta\n"
   ]
  },
  {
   "attachments": {},
   "cell_type": "markdown",
   "metadata": {},
   "source": [
    "##### Scope (Kapsam)\n",
    "\n",
    "Pythonda bir değişken, sadece tanımlandığı bölgede erişilebilirdir. Buna kapsam denir. Şu örneği inceleyelim:"
   ]
  },
  {
   "cell_type": "code",
   "execution_count": 5,
   "metadata": {},
   "outputs": [],
   "source": [
    "def myfunc():\n",
    "  x = 300\n",
    "  print(x)\n",
    "\n",
    "myfunc()\n",
    "print(x) # Hata alırız, x tanımlandığı bölgenin dışında erişilebilir değildir."
   ]
  },
  {
   "attachments": {},
   "cell_type": "markdown",
   "metadata": {},
   "source": [
    "Gördüğümüz gibi `x` değeri tanımlandığı bölge dışında çağrılamıyor. Ancak, tanımlandığı bölgenin içerisinde başka iç fonksiyonlarda erişilebilirdir."
   ]
  },
  {
   "cell_type": "code",
   "execution_count": null,
   "metadata": {},
   "outputs": [],
   "source": [
    "def func1():\n",
    "    x = 100\n",
    "    def func2():\n",
    "        print(x)\n",
    "    \n",
    "    func2()\n",
    "\n",
    "func1()"
   ]
  },
  {
   "cell_type": "code",
   "execution_count": null,
   "metadata": {},
   "outputs": [],
   "source": [
    "def f():\n",
    "    def g():\n",
    "        x = 5\n",
    "        print(x)\n",
    "    print(x) # x değişkeni iç fonksiyonda tanımlı, burada tanımlı değil"
   ]
  },
  {
   "attachments": {},
   "cell_type": "markdown",
   "metadata": {},
   "source": [
    "**Global Scope:** Python kodunun ana gövdesinde, yani en dışarıda tanımlanan değişkenler global scope'a sahiptir. Yani her şeyin dışında oldukları için diğer fonksiyon sınıf vblerin içinde çağrılabilirler."
   ]
  },
  {
   "cell_type": "code",
   "execution_count": null,
   "metadata": {},
   "outputs": [],
   "source": [
    "x = 300\n",
    "\n",
    "def myfunc():\n",
    "  print(x)\n",
    "\n",
    "myfunc()\n",
    "\n",
    "print(x)"
   ]
  },
  {
   "attachments": {},
   "cell_type": "markdown",
   "metadata": {},
   "source": [
    "Eğer dışarıda tanımlanan bir değişkeni, aynı isimle fonksiyonun içerisinde de tanımlamaya çalışırsanız; Python 2 değişkeni birbirlerinden farklı olarak tutar. Biri local bir değişken, diğeri global bir değişken olur:"
   ]
  },
  {
   "cell_type": "code",
   "execution_count": 1,
   "metadata": {},
   "outputs": [
    {
     "name": "stdout",
     "output_type": "stream",
     "text": [
      "200\n",
      "300\n"
     ]
    }
   ],
   "source": [
    "x = 300\n",
    "\n",
    "def myfunc():\n",
    "  x = 200\n",
    "  print(x)\n",
    "\n",
    "myfunc()\n",
    "\n",
    "print(x)"
   ]
  },
  {
   "attachments": {},
   "cell_type": "markdown",
   "metadata": {},
   "source": [
    "Bu bahsettiğimiz durumdan ötürü, aslında bir fonksiyonun içerisinde direkt olarak global bir değişken tanımlayamayız. Bu durumu aşmak istediğimizde  `global` keywordünü kullanabiliriz. İlk başta incelediğimiz örneğe terkar bakalım:"
   ]
  },
  {
   "cell_type": "code",
   "execution_count": 2,
   "metadata": {},
   "outputs": [
    {
     "name": "stdout",
     "output_type": "stream",
     "text": [
      "300\n",
      "300\n"
     ]
    }
   ],
   "source": [
    "def myfunc():\n",
    "  global x\n",
    "  x = 300\n",
    "  print(x)\n",
    "\n",
    "myfunc()\n",
    "print(x) "
   ]
  },
  {
   "attachments": {},
   "cell_type": "markdown",
   "metadata": {},
   "source": [
    "Bu sayede, içerde tanımladığımız değişkenimiz yerel olmaktan kurtulup global bir hal aldı.\n",
    "Değişkenlerin kapsamlarına, local olup olmadıklarına dikkat etmemek, programımızda hataların oluşmasına yol açabiliyor. Bir program yazarken bir değişkenin tanımlı olmamasına veya beklediğimizden farklı bir değer almasına dair bir hata aldığımızda, kodumuzda değişkenlerin kapsamlarına göz atmamız gerekebilir.\n",
    "\n",
    "Ayrıca yanlış anlaşılmaısn, değikenlerimizin global veya local olmasını isteyebiliriz duruma göre, çoğu zaman fonksiyonların içerindeki değişkenleri hep local tanımlarız. Her değişken global olmalı diye bir yanlış anlaşılma olmasın."
   ]
  }
 ],
 "metadata": {
  "kernelspec": {
   "display_name": "Python 3",
   "language": "python",
   "name": "python3"
  },
  "language_info": {
   "codemirror_mode": {
    "name": "ipython",
    "version": 3
   },
   "file_extension": ".py",
   "mimetype": "text/x-python",
   "name": "python",
   "nbconvert_exporter": "python",
   "pygments_lexer": "ipython3",
   "version": "3.12.0"
  },
  "orig_nbformat": 4
 },
 "nbformat": 4,
 "nbformat_minor": 2
}
