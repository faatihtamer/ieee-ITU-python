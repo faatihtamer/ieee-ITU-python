{
 "cells": [
  {
   "cell_type": "markdown",
   "metadata": {},
   "source": [
    "# <span style=\"color:#0152a1\"> İTÜ IEEE Python Eğitimi</span> \n",
    "## 4. Hafta\n"
   ]
  },
  {
   "cell_type": "markdown",
   "metadata": {},
   "source": [
    "##### Kalıtım (Inheritance)\n",
    "\n",
    "Python'da kalıtım, bir sınıftan diğerine özelliklerin ve methodların  kalmasını sağlar. Özelliklerini veren sınıfa `Parent Class`, Özellikleri alan sınıfa `Child Class` adı verilir.\n",
    "\n",
    "Örnekler üzerinden anlaşılması çok daha kolay olacaktır:"
   ]
  },
  {
   "cell_type": "code",
   "execution_count": 4,
   "metadata": {},
   "outputs": [
    {
     "name": "stdout",
     "output_type": "stream",
     "text": [
      "21\n",
      "3.0\n",
      "22\n"
     ]
    }
   ],
   "source": [
    "class Insan: # Parent class tanımlanması. (Normal class tanımlıyoruz)\n",
    "    def __init__(self, ad, yas):\n",
    "        self.ad = ad\n",
    "        self.yas = yas\n",
    "        self.iş = \"çalışan\"\n",
    "    def dogum_gunu(self):\n",
    "        self.yas += 1\n",
    "\n",
    "class Ogrenci(Insan): # Chil class tanımlanması\n",
    "    def __init__(self, ad, yas, note):\n",
    "        super().__init__(ad, yas) # Parent class'ın init'ini çağırırız\n",
    "        self.note = note\n",
    "        self.iş = \"öğrenci\"\n",
    "    def not_ver(self, n):\n",
    "        self = n\n",
    "\n",
    "umur = Insan(\"Umur\", 21)\n",
    "batu = Ogrenci(\"Batu\", 21, 3.0)\n",
    "\n",
    "print(umur.yas)\n",
    "print(batu.note)\n",
    "batu.dogum_gunu()\n",
    "print(batu.yas)\n",
    "print(batu.iş)"
   ]
  },
  {
   "cell_type": "markdown",
   "metadata": {},
   "source": [
    "Yukarıda anlattığımız üzere child class olan `Ogrenci`'yi tanımlarken, parent class olan `Insan`'dan tüm methodları ve attribute'ları da alır. Ancak eğer biz child class içerisinde parent class da olan bir fonksiyonu tanımlamak istersek, parent da olan kısım override'lanır (yani, childda tanımlanan fonksiyonun parent'dakinin yerini alır.) Biz örnekte, `İnsan`'da yer alan `__init__` fonksiyonunun `Ogrenci`'de de olmasını istiyoruz, bu sebeple `super().__init__(ad, yas)` satırını ekledik. Burada `super()` fonksiyonu üstteki parent classı temsil ediyor, yani biz bu classa ait olan `__init__` fonksiyonunu çağırıyoruz ve ilk olarak onu çalıştırıyoruz. Sonrasında ise `Ogrenci`'ye özel olmasını istediğimiz `__init__` fonksiyonunun kalanını alta yazıyoruz.\n",
    "\n",
    "Yani, Child fonksiyonlar Parent fonksiyonların istenilen özelliklerini ve fonksiyonlarını barındıran özelleşmiş sınıflardır. Bu yapıyı daha da büyütüp dallandırmak mümkündür:"
   ]
  },
  {
   "cell_type": "code",
   "execution_count": null,
   "metadata": {},
   "outputs": [],
   "source": [
    "class Canlilar:\n",
    "    pass\n",
    "\n",
    "class Omurgalılar(Canlilar):\n",
    "    pass\n",
    "\n",
    "class Memeliler(Omurgalılar):\n",
    "    pass\n",
    "\n",
    "class Insan(Memeliler):\n",
    "    pass\n",
    "\n",
    "class Omurgasizlar(Canlilar):\n",
    "    pass"
   ]
  },
  {
   "cell_type": "markdown",
   "metadata": {},
   "source": [
    "Yukarıdaki yapıda `Insan` sınıfına ait bir obje, overridelamadığı sürece, `Canlilar` sınıfının özellik ve fonksiyonlarını da içerir.\n"
   ]
  },
  {
   "cell_type": "markdown",
   "metadata": {},
   "source": [
    "Bu şekilde teorik anlatımla tam olarak kafanıza oturması ve alışmanız pek mümkün değil. Bu sebeple bu haftaki derste sayı olarak fazla örneğe bakacağız. [Class](https://www.w3schools.com/python/python_classes.asp) ve [Inheritance](https://www.w3schools.com/python/python_inheritance.asp) yapıları için bu bağlantılara tıklayarak çok daha çeşitli örnekler görebilirsiniz."
   ]
  }
 ],
 "metadata": {
  "kernelspec": {
   "display_name": "Python 3",
   "language": "python",
   "name": "python3"
  },
  "language_info": {
   "codemirror_mode": {
    "name": "ipython",
    "version": 3
   },
   "file_extension": ".py",
   "mimetype": "text/x-python",
   "name": "python",
   "nbconvert_exporter": "python",
   "pygments_lexer": "ipython3",
   "version": "3.9.13"
  }
 },
 "nbformat": 4,
 "nbformat_minor": 2
}
